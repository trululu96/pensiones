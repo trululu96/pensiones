{
 "cells": [
  {
   "cell_type": "code",
   "execution_count": 1,
   "metadata": {},
   "outputs": [],
   "source": [
    "# import pandas and requests\n",
    "import pandas as pd\n",
    "import requests\n",
    "from bs4 import BeautifulSoup\n",
    "from time import sleep \n",
    "import zipfile\n",
    "import os\n",
    "link = 'https://www.superfinanciera.gov.co/inicio/informes-y-cifras/cifras/pensiones-cesantias-y-fiduciarias/informacion-por-sector-/pensiones-y-cesantias/regimen-de-ahorro-individual-con-solidaridad-/informacion-financiera-con-fines-de-supervision-sociedades-administradoras-niif-10084383'"
   ]
  },
  {
   "cell_type": "code",
   "execution_count": 2,
   "metadata": {},
   "outputs": [],
   "source": [
    "# web scrapping function for sfc\n",
    "def sfc_scrape(url):\n",
    "    # get the html from the url\n",
    "    r = requests.get(url)\n",
    "    # parse the html\n",
    "    soup = BeautifulSoup(r.text, 'html.parser')\n",
    "    # find the div with the class 'pub' \n",
    "    clase = soup.find_all(\"div\", {\"class\":\"pub\"})[0]\n",
    "    # find all the hrefs\n",
    "    result = [i[\"href\"] for i in clase.find_all(\"a\")]\n",
    "\n",
    "    # filter the results if they start whith '/'\n",
    "    result = [i for i in result if i.startswith(\"/\")]\n",
    "    # add the base url to the results\n",
    "    base_url = \"https://www.superfinanciera.gov.co\"\n",
    "    result = [base_url + i for i in result] \n",
    "    # return the list of hrefs \n",
    "    return result"
   ]
  },
  {
   "cell_type": "code",
   "execution_count": 3,
   "metadata": {},
   "outputs": [],
   "source": [
    "sfc = sfc_scrape(link)"
   ]
  },
  {
   "cell_type": "code",
   "execution_count": 4,
   "metadata": {},
   "outputs": [
    {
     "data": {
      "text/plain": [
       "['https://www.superfinanciera.gov.co/descargas/institucional/pubFile1060546/0023032022n.zip',\n",
       " 'https://www.superfinanciera.gov.co/descargas/institucional/pubFile1059674/0023022022n.zip',\n",
       " 'https://www.superfinanciera.gov.co/descargas/institucional/pubFile1059348/0023012022n.zip',\n",
       " 'https://www.superfinanciera.gov.co/descargas/institucional/pubFile1058871/0023122021n.zip',\n",
       " 'https://www.superfinanciera.gov.co/descargas/institucional/pubFile1058078/0023112021n.zip',\n",
       " 'https://www.superfinanciera.gov.co/descargas/institucional/pubFile1057393/0023102021n.zip',\n",
       " 'https://www.superfinanciera.gov.co/descargas/institucional/pubFile1056853/0023092021n.zip',\n",
       " 'https://www.superfinanciera.gov.co/descargas/institucional/pubFile1056060/0023082021n.zip',\n",
       " 'https://www.superfinanciera.gov.co/descargas/institucional/pubFile1055541/0023072021n.zip',\n",
       " 'https://www.superfinanciera.gov.co/descargas/institucional/pubFile1055057/0023062021n.zip',\n",
       " 'https://www.superfinanciera.gov.co/descargas/institucional/pubFile1054620/0023052021n.zip',\n",
       " 'https://www.superfinanciera.gov.co/descargas/institucional/pubFile1054112/0023042021n.zip',\n",
       " 'https://www.superfinanciera.gov.co/descargas/institucional/pubFile1052963/0023032021n.zip',\n",
       " 'https://www.superfinanciera.gov.co/descargas/institucional/pubFile1052410/0023022021n.zip',\n",
       " 'https://www.superfinanciera.gov.co/descargas/institucional/pubFile1051403/0023012021n.zip',\n",
       " 'https://www.superfinanciera.gov.co/descargas/institucional/pubFile1050793/0023122020n.zip',\n",
       " 'https://www.superfinanciera.gov.co/descargas/institucional/pubFile1050371/0023112020n.zip',\n",
       " 'https://www.superfinanciera.gov.co/descargas/institucional/pubFile1049859/0023102020n.zip',\n",
       " 'https://www.superfinanciera.gov.co/descargas/institucional/pubFile1049352/0023092020n.zip',\n",
       " 'https://www.superfinanciera.gov.co/descargas/institucional/pubFile1048750/0023082020n.zip',\n",
       " 'https://www.superfinanciera.gov.co/descargas/institucional/pubFile1048195/0023072020n.zip',\n",
       " 'https://www.superfinanciera.gov.co/descargas/institucional/pubFile1047454/0023062020n.zip',\n",
       " 'https://www.superfinanciera.gov.co/descargas/institucional/pubFile1046929/0023052020n.zip',\n",
       " 'https://www.superfinanciera.gov.co/descargas/institucional/pubFile1046230/0023042020n.zip',\n",
       " 'https://www.superfinanciera.gov.co/descargas/institucional/pubFile1045468/0023032020n.zip',\n",
       " 'https://www.superfinanciera.gov.co/descargas/institucional/pubFile1044611/0023022020n.zip',\n",
       " 'https://www.superfinanciera.gov.co/descargas/institucional/pubFile1044496/0023012020n.zip',\n",
       " 'https://www.superfinanciera.gov.co/descargas/institucional/pubFile1043399/0023122019n.zip',\n",
       " 'https://www.superfinanciera.gov.co/descargas/institucional/pubFile1042632/0023112019n.zip',\n",
       " 'https://www.superfinanciera.gov.co/descargas/institucional/pubFile1041715/0023102019n.zip',\n",
       " 'https://www.superfinanciera.gov.co/descargas/institucional/pubFile1041237/0023092019n.zip',\n",
       " 'https://www.superfinanciera.gov.co/descargas/institucional/pubFile1040547/0023082019n.zip',\n",
       " 'https://www.superfinanciera.gov.co/descargas/institucional/pubFile1039730/0023072019n.zip',\n",
       " 'https://www.superfinanciera.gov.co/descargas/institucional/pubFile1039201/0023062019n.zip',\n",
       " 'https://www.superfinanciera.gov.co/descargas/institucional/pubFile1038565/0023052019n.zip',\n",
       " 'https://www.superfinanciera.gov.co/descargas/institucional/pubFile1037961/0023042019n.zip',\n",
       " 'https://www.superfinanciera.gov.co/descargas/institucional/pubFile1037547/0023032019n.zip',\n",
       " 'https://www.superfinanciera.gov.co/descargas/institucional/pubFile1037054/0023022019n.zip',\n",
       " 'https://www.superfinanciera.gov.co/descargas/institucional/pubFile1036301/0023012019n.zip',\n",
       " 'https://www.superfinanciera.gov.co/descargas/institucional/pubFile1036088/0023122018n.zip',\n",
       " 'https://www.superfinanciera.gov.co/descargas/institucional/pubFile1035289/0023112018n.zip',\n",
       " 'https://www.superfinanciera.gov.co/descargas/institucional/pubFile1034815/0023102018n.zip',\n",
       " 'https://www.superfinanciera.gov.co/descargas/institucional/pubFile1034468/0023092018n.zip',\n",
       " 'https://www.superfinanciera.gov.co/descargas/institucional/pubFile1033700/0023082018n.zip',\n",
       " 'https://www.superfinanciera.gov.co/descargas/institucional/pubFile1033436/0023072018n.zip',\n",
       " 'https://www.superfinanciera.gov.co/descargas/institucional/pubFile1032990/0023062018n.zip',\n",
       " 'https://www.superfinanciera.gov.co/descargas/institucional/pubFile1032333/0023052018n.zip',\n",
       " 'https://www.superfinanciera.gov.co/descargas/institucional/pubFile1032146/0023042018n.zip',\n",
       " 'https://www.superfinanciera.gov.co/descargas/institucional/pubFile1031557/0023032018n.zip',\n",
       " 'https://www.superfinanciera.gov.co/descargas/institucional/pubFile1031096/0023022018n.zip',\n",
       " 'https://www.superfinanciera.gov.co/descargas/institucional/pubFile1030448/0023012018n.zip',\n",
       " 'https://www.superfinanciera.gov.co/descargas/institucional/pubFile1029771/0023122017n.zip',\n",
       " 'https://www.superfinanciera.gov.co/descargas/institucional/pubFile1028894/0023112017n.zip',\n",
       " 'https://www.superfinanciera.gov.co/descargas/institucional/pubFile1028122/0023102017n.zip',\n",
       " 'https://www.superfinanciera.gov.co/descargas?com=institucional&name=pubFile1027528&downloadname=0023092017n.zip',\n",
       " 'https://www.superfinanciera.gov.co/descargas?com=institucional&name=pubFile1027029&downloadname=0023082017n.zip',\n",
       " 'https://www.superfinanciera.gov.co/descargas?com=institucional&name=pubFile1026416&downloadname=0023072017n.zip',\n",
       " 'https://www.superfinanciera.gov.co/descargas?com=institucional&name=pubFile1025879&downloadname=0023062017n.zip',\n",
       " 'https://www.superfinanciera.gov.co/descargas?com=institucional&name=pubFile1025397&downloadname=0023052017n.zip',\n",
       " 'https://www.superfinanciera.gov.co/descargas?com=institucional&name=pubFile1024978&downloadname=0023042017n.zip',\n",
       " 'https://www.superfinanciera.gov.co/descargas?com=institucional&name=pubFile1024409&downloadname=0023032017n.zip',\n",
       " 'https://www.superfinanciera.gov.co/descargas?com=institucional&name=pubFile1024049&downloadname=0023022017n.zip',\n",
       " 'https://www.superfinanciera.gov.co/descargas?com=institucional&name=pubFile1023437&downloadname=0023012017n.zip',\n",
       " 'https://www.superfinanciera.gov.co/descargas?com=institucional&name=pubFile1022819&downloadname=0023122016n.zip',\n",
       " 'https://www.superfinanciera.gov.co/descargas?com=institucional&name=pubFile1022318&downloadname=0023112016n.zip',\n",
       " 'https://www.superfinanciera.gov.co/descargas?com=institucional&name=pubFile1022046&downloadname=0023102016n.zip',\n",
       " 'https://www.superfinanciera.gov.co/descargas?com=institucional&name=pubFile1021476&downloadname=0023092016n.zip',\n",
       " 'https://www.superfinanciera.gov.co/descargas?com=institucional&name=pubFile1020951&downloadname=0023082016n.zip',\n",
       " 'https://www.superfinanciera.gov.co/descargas?com=institucional&name=pubFile1020531&downloadname=0023072016n.zip',\n",
       " 'https://www.superfinanciera.gov.co/descargas?com=institucional&name=pubFile1020060&downloadname=0023062016n.zip',\n",
       " 'https://www.superfinanciera.gov.co/descargas?com=institucional&name=pubFile1019442&downloadname=0023052016n.zip',\n",
       " 'https://www.superfinanciera.gov.co/descargas?com=institucional&name=pubFile1018882&downloadname=0023042016n.zip',\n",
       " 'https://www.superfinanciera.gov.co/descargas?com=institucional&name=pubFile1018506&downloadname=0023032016n.zip',\n",
       " 'https://www.superfinanciera.gov.co/descargas?com=institucional&name=pubFile1018109&downloadname=0023022016n.zip',\n",
       " 'https://www.superfinanciera.gov.co/descargas?com=institucional&name=pubFile1017710&downloadname=0023012016n.zip',\n",
       " 'https://www.superfinanciera.gov.co/descargas?com=institucional&name=pubFile1017189&downloadname=0023122015n.zip',\n",
       " 'https://www.superfinanciera.gov.co/descargas?com=institucional&name=pubFile1016448&downloadname=0023112015n.zip',\n",
       " 'https://www.superfinanciera.gov.co/descargas?com=institucional&name=pubFile1016073&downloadname=0023102015n.zip',\n",
       " 'https://www.superfinanciera.gov.co/descargas?com=institucional&name=pubFile1015796&downloadname=0023092015n.zip',\n",
       " 'https://www.superfinanciera.gov.co/descargas?com=institucional&name=pubFile1015456&downloadname=0023082015n.zip',\n",
       " 'https://www.superfinanciera.gov.co/descargas?com=institucional&name=pubFile1015042&downloadname=0023072015n.zip',\n",
       " 'https://www.superfinanciera.gov.co/descargas?com=institucional&name=pubFile1014441&downloadname=0023062015n.zip',\n",
       " 'https://www.superfinanciera.gov.co/descargas?com=institucional&name=pubFile1014194&downloadname=0023052015n.zip',\n",
       " 'https://www.superfinanciera.gov.co/descargas?com=institucional&name=pubFile1013858&downloadname=0023042015n.zip',\n",
       " 'https://www.superfinanciera.gov.co/descargas?com=institucional&name=pubFile1013231&downloadname=0023032015n.zip',\n",
       " 'https://www.superfinanciera.gov.co/descargas?com=institucional&name=pubFile1012985&downloadname=0023022015n.zip',\n",
       " 'https://www.superfinanciera.gov.co/descargas?com=institucional&name=pubFile1012504&downloadname=0023012015n.zip']"
      ]
     },
     "execution_count": 4,
     "metadata": {},
     "output_type": "execute_result"
    }
   ],
   "source": [
    "sfc"
   ]
  },
  {
   "cell_type": "code",
   "execution_count": 4,
   "metadata": {},
   "outputs": [],
   "source": [
    "#function to extract the file names from the hrefs\n",
    "\n",
    "def extract_file(result): \n",
    "    # create an empty list\n",
    "    file_names = []\n",
    "    for i in result:\n",
    "        if \"downloadname\" in i:\n",
    "            file_names.append(i.split(\"=\")[3])\n",
    "\n",
    "        else:\n",
    "            file_names.append(i.split(\"institucional/\")[1].split(\"/\")[1])\n",
    "    \n",
    "    return file_names\n",
    "\n",
    "    "
   ]
  },
  {
   "cell_type": "code",
   "execution_count": 23,
   "metadata": {},
   "outputs": [],
   "source": [
    "# function to download all the zip files\n",
    "def download_zip(result, BaseLocation, names):\n",
    "    for i,z in zip(result,names):\n",
    "        r = requests.get(i)\n",
    "        with open(BaseLocation + z, 'wb') as f:\n",
    "            f.write(r.content)\n",
    "        sleep(0.1)"
   ]
  },
  {
   "cell_type": "code",
   "execution_count": 25,
   "metadata": {},
   "outputs": [],
   "source": [
    "download_zip(sfc, \"/Volumes/GoogleDrive/Mi unidad/Organizado/URF/URF_AFP/data/PUC/\", extract_file(sfc))"
   ]
  },
  {
   "cell_type": "code",
   "execution_count": 26,
   "metadata": {},
   "outputs": [],
   "source": [
    "# function to unzip the files\n",
    "def unzip(BaseLocation, destination, names):\n",
    "       \n",
    "    for i in names:\n",
    "        with zipfile.ZipFile(BaseLocation + i, 'r') as zip_ref:\n",
    "            zip_ref.extractall(destination)"
   ]
  },
  {
   "cell_type": "code",
   "execution_count": 27,
   "metadata": {},
   "outputs": [],
   "source": [
    "unzip(\"/Volumes/GoogleDrive/Mi unidad/Organizado/URF/URF_AFP/data/PUC/\", \"/Volumes/GoogleDrive/Mi unidad/Organizado/URF/URF_AFP/data/final/\", extract_file(sfc))"
   ]
  }
 ],
 "metadata": {
  "kernelspec": {
   "display_name": "Python 3.9.12 ('base')",
   "language": "python",
   "name": "python3"
  },
  "language_info": {
   "codemirror_mode": {
    "name": "ipython",
    "version": 3
   },
   "file_extension": ".py",
   "mimetype": "text/x-python",
   "name": "python",
   "nbconvert_exporter": "python",
   "pygments_lexer": "ipython3",
   "version": "3.9.12"
  },
  "orig_nbformat": 4,
  "vscode": {
   "interpreter": {
    "hash": "e7011b78134d63f703602f79c7fea3efb2b6cf44b44825164f6a54ae4bb3de19"
   }
  }
 },
 "nbformat": 4,
 "nbformat_minor": 2
}
